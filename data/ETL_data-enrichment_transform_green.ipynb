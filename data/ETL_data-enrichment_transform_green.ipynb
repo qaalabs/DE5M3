{
  "cells": [
    {
      "cell_type": "markdown",
      "metadata": {},
      "source": [
        "# Customer Data ETL Challenge\n",
        "\n",
        "**Scenario**: You work for a company that has customer data scattered across different systems. Your job is to clean and combine this data to create a unified customer view.\n",
        "\n",
        "**Learning Objectives**:\n",
        "- Understand real-world data quality issues\n",
        "- Practice Extract, Transform, Load (ETL) concepts\n",
        "- Learn to make data-driven decisions\n",
        "\n",
        "**Instructions**: \n",
        "- Read each cell carefully\n",
        "- Run the code and observe the output\n",
        "- Complete the TODO sections\n",
        "- Discuss your decisions with your peers"
      ]
    },
    {
      "cell_type": "markdown",
      "metadata": {},
      "source": [
        "## Step 1: Import Libraries and Load Data\n",
        "\n",
        "First, let's import the Python libraries we'll need and load our messy customer data."
      ]
    },
    {
      "cell_type": "code",
      "execution_count": null,
      "metadata": {},
      "outputs": [],
      "source": [
        "import pandas as pd\n",
        "import numpy as np\n",
        "\n",
        "# Our messy customer data from the CRM system\n",
        "crm_data = {\n",
        "    'customer_id': [1001, 1002, '', 1004, 1005, 1006, 1007],\n",
        "    'first_name': ['John', 'jane', 'MIKE', '', 'Sarah', 'Bob', 'alice'],\n",
        "    'last_name': ['Smith', 'DOE', 'Johnson', 'Wilson', '', 'Brown', 'Cooper'],\n",
        "    'email': ['john@email.com', 'JANE@EMAIL.COM', 'mike@invalid', \n",
        "              'sarah@email.com', 'bob@email.com', '', 'alice@email.com'],\n",
        "    'phone': ['01234567890', '0987654321', 'invalid', '', '01111111111', \n",
        "              '02222222222', '03333333333'],\n",
        "    'status': ['active', 'ACTIVE', 'inactive', 'Active', 'suspended', 'active', '']\n",
        "}\n",
        "\n",
        "# Create a DataFrame (think of it as an Excel table in Python)\n",
        "df = pd.DataFrame(crm_data)\n",
        "\n",
        "print(\"Raw customer data from CRM system:\")\n",
        "print(df)"
      ]
    },
    {
      "cell_type": "markdown",
      "metadata": {},
      "source": [
        "## Step 2: Investigate Data Quality Issues\n",
        "\n",
        "Let's examine our data to identify problems. This is a crucial first step in any ETL process."
      ]
    },
    {
      "cell_type": "code",
      "execution_count": null,
      "metadata": {},
      "outputs": [],
      "source": [
        "print(\"=== DATA INVESTIGATION ===\")\n",
        "print(f\"Total records: {len(df)}\")\n",
        "print(f\"\\nData types:\")\n",
        "print(df.dtypes)\n",
        "print(f\"\\nMissing values:\")\n",
        "print(df.isnull().sum())\n",
        "print(f\"\\nEmpty strings (not technically missing, but problematic):\")\n",
        "print((df == '').sum())"
      ]
    },
    {
      "cell_type": "markdown",
      "metadata": {},
      "source": [
        "### 🤔 Discussion Point\n",
        "Look at the output above. What problems do you notice with this data? \n",
        "\n",
        "Write your observations here:\n",
        "- Problem 1: \n",
        "- Problem 2: \n",
        "- Problem 3: \n",
        "\n",
        "(*Hint: Look at customer IDs, name formatting, email addresses, and status values*)"
      ]
    },
    {
      "cell_type": "markdown",
      "metadata": {},
      "source": [
        "## Step 3: Clean Customer IDs (Guided Example)\n",
        "\n",
        "Customer ID is critical - we can't have records without valid IDs. Let's fix this first."
      ]
    },
    {
      "cell_type": "code",
      "execution_count": null,
      "metadata": {},
      "outputs": [],
      "source": [
        "print(\"Before cleaning - Customer IDs:\")\n",
        "print(df['customer_id'].tolist())\n",
        "\n",
        "# Remove rows where customer_id is empty\n",
        "df_clean = df[df['customer_id'] != ''].copy()\n",
        "\n",
        "# Convert to integer (pandas often loads numbers as text)\n",
        "df_clean['customer_id'] = df_clean['customer_id'].astype(int)\n",
        "\n",
        "print(\"\\nAfter cleaning - Customer IDs:\")\n",
        "print(df_clean['customer_id'].tolist())\n",
        "print(f\"\\nRecords removed: {len(df) - len(df_clean)}\")"
      ]
    },
    {
      "cell_type": "markdown",
      "metadata": {},
      "source": [
        "## Step 4: Clean Names (Your Turn!)\n",
        "\n",
        "Names should be properly formatted for consistency. Complete the TODO sections below."
      ]
    },
    {
      "cell_type": "code",
      "execution_count": null,
      "metadata": {},
      "outputs": [],
      "source": [
        "print(\"Before cleaning - Names:\")\n",
        "print(\"First names:\", df_clean['first_name'].tolist())\n",
        "print(\"Last names:\", df_clean['last_name'].tolist())\n",
        "\n",
        "# TODO: Clean first names\n",
        "# Hint: Use .str.title() to make names like \"jane\" become \"Jane\"\n",
        "# Hint: Handle empty strings by replacing them with 'Unknown'\n",
        "\n",
        "# Example for first_name:\n",
        "df_clean['first_name'] = df_clean['first_name'].replace('', 'Unknown')\n",
        "df_clean['first_name'] = df_clean['first_name'].str.title()\n",
        "\n",
        "# TODO: Now you do the same for last_name\n",
        "# YOUR CODE HERE:\n",
        "\n",
        "\n",
        "print(\"\\nAfter cleaning - Names:\")\n",
        "print(\"First names:\", df_clean['first_name'].tolist())\n",
        "print(\"Last names:\", df_clean['last_name'].tolist())"
      ]
    },
    {
      "cell_type": "markdown",
      "metadata": {},
      "source": [
        "## Step 5: Validate Email Addresses\n",
        "\n",
        "Email validation is crucial for marketing campaigns. Let's identify valid vs invalid emails."
      ]
    },
    {
      "cell_type": "code",
      "execution_count": null,
      "metadata": {},
      "outputs": [],
      "source": [
        "print(\"Current email addresses:\")\n",
        "print(df_clean['email'].tolist())\n",
        "\n",
        "# Simple email validation - must contain @ and .\n",
        "def is_valid_email(email):\n",
        "    if email == '':\n",
        "        return False\n",
        "    return '@' in email and '.' in email\n",
        "\n",
        "# TODO: Apply the validation function\n",
        "# Hint: Use .apply() to run the function on each email\n",
        "df_clean['email_valid'] = df_clean['email'].apply(is_valid_email)\n",
        "\n",
        "# TODO: Standardise email format (lowercase)\n",
        "# YOUR CODE HERE:\n",
        "df_clean['email'] = df_clean['email'].str.lower()\n",
        "\n",
        "print(\"\\nEmail validation results:\")\n",
        "print(df_clean[['email', 'email_valid']])\n",
        "\n",
        "# Count valid vs invalid\n",
        "print(f\"\\nValid emails: {df_clean['email_valid'].sum()}\")\n",
        "print(f\"Invalid emails: {(~df_clean['email_valid']).sum()}\")"
      ]
    },
    {
      "cell_type": "markdown",
      "metadata": {},
      "source": [
        "## Step 6: Standardise Status Values\n",
        "\n",
        "Business systems need consistent status values. Let's fix the inconsistent capitalisation."
      ]
    },
    {
      "cell_type": "code",
      "execution_count": null,
      "metadata": {},
      "outputs": [],
      "source": [
        "print(\"Current status values:\")\n",
        "print(df_clean['status'].tolist())\n",
        "print(\"\\nUnique status values:\")\n",
        "print(df_clean['status'].unique())\n",
        "\n",
        "# TODO: Standardise status values\n",
        "# 1. Convert to lowercase\n",
        "# 2. Handle empty strings (what should the default status be?)\n",
        "\n",
        "# YOUR CODE HERE:\n",
        "df_clean['status'] = df_clean['status'].str.lower()\n",
        "df_clean['status'] = df_clean['status'].replace('', 'unknown')\n",
        "\n",
        "print(\"\\nAfter standardisation:\")\n",
        "print(\"Status values:\", df_clean['status'].tolist())\n",
        "print(\"Unique status values:\", df_clean['status'].unique())\n",
        "\n",
        "# Count each status\n",
        "print(\"\\nStatus distribution:\")\n",
        "print(df_clean['status'].value_counts())"
      ]
    },
    {
      "cell_type": "markdown",
      "metadata": {},
      "source": [
        "## Step 7: Handle Phone Numbers (Challenge)\n",
        "\n",
        "Phone numbers are tricky! Let's create a simple validation."
      ]
    },
    {
      "cell_type": "code",
      "execution_count": null,
      "metadata": {},
      "outputs": [],
      "source": [
        "print(\"Current phone numbers:\")\n",
        "print(df_clean['phone'].tolist())\n",
        "\n",
        "# TODO: Create a function to validate UK phone numbers\n",
        "# Simple rule: Must be 11 digits starting with 0\n",
        "def is_valid_uk_phone(phone):\n",
        "    if phone == '':\n",
        "        return False\n",
        "    # TODO: Check if phone is 11 digits and starts with 0\n",
        "    # Hint: Use .isdigit() to check if string contains only numbers\n",
        "    # Hint: Use len() to check length\n",
        "    \n",
        "    # YOUR CODE HERE:\n",
        "    if len(phone) == 11 and phone.startswith('0') and phone.isdigit():\n",
        "        return True\n",
        "    return False\n",
        "\n",
        "# Apply validation\n",
        "df_clean['phone_valid'] = df_clean['phone'].apply(is_valid_uk_phone)\n",
        "\n",
        "print(\"\\nPhone validation results:\")\n",
        "print(df_clean[['phone', 'phone_valid']])"
      ]
    },
    {
      "cell_type": "markdown",
      "metadata": {},
      "source": [
        "## Step 8: Create Data Quality Report\n",
        "\n",
        "Always document your data quality findings for stakeholders."
      ]
    },
    {
      "cell_type": "code",
      "execution_count": null,
      "metadata": {},
      "outputs": [],
      "source": [
        "print(\"=== DATA QUALITY REPORT ===\")\n",
        "print(f\"Total records processed: {len(df_clean)}\")\n",
        "print(f\"Records removed (missing customer ID): {len(df) - len(df_clean)}\")\n",
        "print()\n",
        "print(\"Field Quality Summary:\")\n",
        "print(f\"- Valid emails: {df_clean['email_valid'].sum()}/{len(df_clean)} ({df_clean['email_valid'].mean():.1%})\")\n",
        "print(f\"- Valid phone numbers: {df_clean['phone_valid'].sum()}/{len(df_clean)} ({df_clean['phone_valid'].mean():.1%})\")\n",
        "print(f\"- Unknown first names: {(df_clean['first_name'] == 'Unknown').sum()}\")\n",
        "print(f\"- Unknown last names: {(df_clean['last_name'] == 'Unknown').sum()}\")\n",
        "print()\n",
        "print(\"Customer Status Distribution:\")\n",
        "for status, count in df_clean['status'].value_counts().items():\n",
        "    percentage = count / len(df_clean) * 100\n",
        "    print(f\"- {status.title()}: {count} ({percentage:.1f}%)\")"
      ]
    },
    {
      "cell_type": "markdown",
      "metadata": {},
      "source": [
        "## Step 9: Final Clean Dataset\n",
        "\n",
        "Let's see our cleaned data and save it for further processing."
      ]
    },
    {
      "cell_type": "code",
      "execution_count": null,
      "metadata": {},
      "outputs": [],
      "source": [
        "# Create final dataset with just the cleaned core fields\n",
        "final_df = df_clean[['customer_id', 'first_name', 'last_name', 'email', 'phone', 'status']].copy()\n",
        "\n",
        "print(\"=== FINAL CLEANED DATASET ===\")\n",
        "print(final_df)\n",
        "\n",
        "# Save to CSV\n",
        "output_file = 'cleaned_customer_data.csv'\n",
        "final_df.to_csv(output_file, index=False)\n",
        "print(f\"\\n✅ Clean data saved to: {output_file}\")"
      ]
    },
    {
      "cell_type": "markdown",
      "metadata": {},
      "source": [
        "## Step 10: Reflection and Next Steps\n",
        "\n",
        "### 🎯 Learning Check\n",
        "1. **Extract**: Where did our data come from?\n",
        "2. **Transform**: What cleaning steps did we perform?\n",
        "3. **Load**: Where did we save our clean data?\n",
        "\n",
        "### 💭 Discussion Questions\n",
        "1. **Business Impact**: How might invalid email addresses affect a marketing campaign?\n",
        "2. **Decision Making**: Should we keep customers with invalid phone numbers? Why?\n",
        "3. **Scalability**: What if we had 1 million customer records instead of 7?\n",
        "4. **Automation**: How could we make this process run automatically each night?\n",
        "\n",
        "### 🚀 Extension Challenges\n",
        "**Ready for more?** Try these advanced challenges:\n",
        "\n",
        "1. **Add order data integration** - Combine with transaction history\n",
        "2. **Create customer segments** - Group customers by activity level\n",
        "3. **Build in VS Code** - Convert this notebook to a proper Python script\n",
        "4. **Add error handling** - What happens if the input file is corrupted?\n",
        "5. **Create automated tests** - How would you verify your cleaning worked correctly?\n",
        "\n",
        "### 📝 Real-World Applications\n",
        "This type of data cleaning is essential in:\n",
        "- CRM system migrations\n",
        "- Marketing campaign preparation\n",
        "- Data warehouse loading\n",
        "- Regulatory compliance reporting\n",
        "- Customer analytics projects"
      ]
    }
  ],
  "metadata": {
    "kernelspec": {
      "display_name": "Python 3",
      "language": "python",
      "name": "python3"
    },
    "language_info": {
      "codemirror_mode": {
        "name": "ipython",
        "version": 3
      },
      "file_extension": ".py",
      "mimetype": "text/x-python",
      "name": "python",
      "nbconvert_exporter": "python",
      "pygments_lexer": "ipython3",
      "version": "3.8.0"
    }
  },
  "nbformat": 4,
  "nbformat_minor": 4
}